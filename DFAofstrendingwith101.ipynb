{
 "cells": [
  {
   "cell_type": "code",
   "execution_count": 2,
   "metadata": {},
   "outputs": [
    {
     "name": "stdin",
     "output_type": "stream",
     "text": [
      "Enter String 101110101\n"
     ]
    },
    {
     "name": "stdout",
     "output_type": "stream",
     "text": [
      "Valid String\n"
     ]
    }
   ],
   "source": [
    "#DFAImplementation of machine which accepts strings ending with 101\n",
    "\n",
    "#defining states with tuples\n",
    "dfa = dict()\n",
    "dfa[('q1','0')]='q1'\n",
    "dfa[('q1','1')]='q2'\n",
    "dfa[('q2','0')]='q3'\n",
    "dfa[('q2','1')]='q2'\n",
    "dfa[('q3','0')]='q1'\n",
    "dfa[('q3','1')]='q4'\n",
    "dfa[('q4','0')]='q3'\n",
    "dfa[('q4','1')]='q2'\n",
    "\n",
    "#initialising states\n",
    "iis = 'q1'\n",
    "fs = {'q4'}\n",
    "str = input('Enter String')\n",
    "cs = iis\n",
    "\n",
    "#looping\n",
    "for i in str:\n",
    "    cs = dfa[(cs,i)]\n",
    "if cs in fs:\n",
    "    print('Valid String')\n",
    "else :\n",
    "    print('Invalid String')"
   ]
  },
  {
   "cell_type": "code",
   "execution_count": null,
   "metadata": {},
   "outputs": [],
   "source": []
  },
  {
   "cell_type": "code",
   "execution_count": null,
   "metadata": {},
   "outputs": [],
   "source": []
  }
 ],
 "metadata": {
  "kernelspec": {
   "display_name": "Python 3",
   "language": "python",
   "name": "python3"
  },
  "language_info": {
   "codemirror_mode": {
    "name": "ipython",
    "version": 3
   },
   "file_extension": ".py",
   "mimetype": "text/x-python",
   "name": "python",
   "nbconvert_exporter": "python",
   "pygments_lexer": "ipython3",
   "version": "3.7.3"
  }
 },
 "nbformat": 4,
 "nbformat_minor": 4
}
