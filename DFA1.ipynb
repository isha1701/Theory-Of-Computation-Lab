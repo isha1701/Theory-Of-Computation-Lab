{
 "cells": [
  {
   "cell_type": "code",
   "execution_count": 11,
   "metadata": {},
   "outputs": [
    {
     "name": "stdin",
     "output_type": "stream",
     "text": [
      "Enter String 0011\n"
     ]
    },
    {
     "name": "stdout",
     "output_type": "stream",
     "text": [
      "Invalid String\n"
     ]
    }
   ],
   "source": [
    "#DFAImplementation of strings containing 111 \n",
    "\n",
    "#defining states with tuples\n",
    "dfa = dict()\n",
    "dfa[('q0','0')]='q0'\n",
    "dfa[('q0','1')]='q1'\n",
    "dfa[('q1','0')]='q0'\n",
    "dfa[('q1','1')]='q2'\n",
    "dfa[('q2','0')]='q0'\n",
    "dfa[('q2','1')]='q3'\n",
    "dfa[('q3','0')]='q3'\n",
    "dfa[('q3','1')]='q3'\n",
    "\n",
    "#initialising states\n",
    "iis = 'q0'\n",
    "fs = {'q3'}\n",
    "str = input('Enter String')\n",
    "cs = iis\n",
    "\n",
    "#looping\n",
    "for i in str:\n",
    "    cs = dfa[(cs,i)]\n",
    "if cs in fs:\n",
    "    print('Valid String')\n",
    "else :\n",
    "    print('Invalid String')\n",
    "     \n",
    "    \n",
    "         \n",
    "    "
   ]
  },
  {
   "cell_type": "code",
   "execution_count": null,
   "metadata": {},
   "outputs": [],
   "source": []
  },
  {
   "cell_type": "code",
   "execution_count": 4,
   "metadata": {},
   "outputs": [],
   "source": [
    "dfa = dict()\n",
    "dfa[('q0','0')]='q0'\n",
    "dfa[('q0','1')]='q1'\n",
    "dfa[('q1','0')]='q0'\n",
    "dfa[('q1','1')]='q2'\n",
    "dfa[('q2','0')]='q0'\n",
    "dfa[('q2','1')]='q3'\n",
    "dfa[('q3','0')]='q3'\n",
    "dfa[('q3','1')]='q3'"
   ]
  },
  {
   "cell_type": "code",
   "execution_count": 7,
   "metadata": {},
   "outputs": [],
   "source": [
    "s = 'a'\n",
    "fs = {'q3'}"
   ]
  },
  {
   "cell_type": "code",
   "execution_count": null,
   "metadata": {},
   "outputs": [],
   "source": []
  },
  {
   "cell_type": "code",
   "execution_count": null,
   "metadata": {},
   "outputs": [],
   "source": []
  }
 ],
 "metadata": {
  "kernelspec": {
   "display_name": "Python 3",
   "language": "python",
   "name": "python3"
  },
  "language_info": {
   "codemirror_mode": {
    "name": "ipython",
    "version": 3
   },
   "file_extension": ".py",
   "mimetype": "text/x-python",
   "name": "python",
   "nbconvert_exporter": "python",
   "pygments_lexer": "ipython3",
   "version": "3.7.3"
  }
 },
 "nbformat": 4,
 "nbformat_minor": 4
}
