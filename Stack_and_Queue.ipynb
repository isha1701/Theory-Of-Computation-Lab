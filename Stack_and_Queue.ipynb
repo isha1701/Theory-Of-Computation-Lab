{
 "cells": [
  {
   "cell_type": "markdown",
   "metadata": {},
   "source": [
    "*BASIC STACK*"
   ]
  },
  {
   "cell_type": "code",
   "execution_count": 6,
   "metadata": {},
   "outputs": [
    {
     "name": "stdout",
     "output_type": "stream",
     "text": [
      "[332]\n",
      "[332, 34]\n",
      "[332, 34, 366]\n",
      "[332, 34, 366, 37]\n",
      "[332, 34, 366, 37, 38]\n",
      "[332, 34, 366, 37, 38, 396]\n",
      "[332, 34, 366, 37, 38]\n"
     ]
    }
   ],
   "source": [
    "class Stack:\n",
    "    def __init__(self):\n",
    "        self.l=[]\n",
    "    def push(self,x):\n",
    "        self.l.append(x)\n",
    "        print(self.l)\n",
    "    def pop(self):\n",
    "        self.l.pop()\n",
    "        print(self.l)\n",
    "    def isempty(self):\n",
    "        return len(l)==0\n",
    "a=Stack()\n",
    "a.push(332)\n",
    "a.push(34)\n",
    "a.push(366)\n",
    "a.push(37)\n",
    "a.push(38)\n",
    "a.push(396)\n",
    "a.pop()\n"
   ]
  },
  {
   "cell_type": "markdown",
   "metadata": {},
   "source": [
    "*STACK TO CHECK FOR BALANCED PARANTHESIS*"
   ]
  },
  {
   "cell_type": "code",
   "execution_count": 2,
   "metadata": {},
   "outputs": [
    {
     "name": "stdin",
     "output_type": "stream",
     "text": [
      "Enter a string: (((())))\n"
     ]
    },
    {
     "name": "stdout",
     "output_type": "stream",
     "text": [
      "['(']\n",
      "['(', '(']\n",
      "['(', '(', '(']\n",
      "['(', '(', '(', '(']\n",
      "['(', '(', '(']\n",
      "['(', '(']\n",
      "['(']\n",
      "[]\n",
      "Balanced\n"
     ]
    }
   ],
   "source": [
    "s=input(\"Enter a string:\")\n",
    "class Stack:\n",
    "    def __init__(self):\n",
    "        self.l=[]\n",
    "    def push(self,x):\n",
    "        self.l.append(x)\n",
    "        print(self.l)\n",
    "    def pop(self):\n",
    "        self.l.pop()\n",
    "        print(self.l)\n",
    "    def isempty(self):\n",
    "        return self.l==[]\n",
    "a=Stack()\n",
    "for i in s:\n",
    "    flag=False\n",
    "    if(i==\"(\"):\n",
    "        a.push(i)\n",
    "    elif(i==\")\"):\n",
    "        if(a.isempty()):\n",
    "            flag=False\n",
    "            break\n",
    "        a.pop()\n",
    "else:\n",
    "        if(a.isempty()):\n",
    "            flag=True\n",
    "        else:\n",
    "            flag=False\n",
    "if(flag==True):\n",
    "    print(\"Balanced\")\n",
    "else:\n",
    "    print(\" Not Balanced\")\n"
   ]
  },
  {
   "cell_type": "code",
   "execution_count": 4,
   "metadata": {},
   "outputs": [
    {
     "name": "stdin",
     "output_type": "stream",
     "text": [
      "Enter a string: ()(((()\n"
     ]
    },
    {
     "name": "stdout",
     "output_type": "stream",
     "text": [
      "['(']\n",
      "[]\n",
      "['(']\n",
      "['(', '(']\n",
      "['(', '(', '(']\n",
      "['(', '(', '(', '(']\n",
      "['(', '(', '(']\n",
      " Not Balanced\n"
     ]
    }
   ],
   "source": [
    "s=input(\"Enter a string:\")\n",
    "class Stack:\n",
    "    def __init__(self):\n",
    "        self.l=[]\n",
    "    def push(self,x):\n",
    "        self.l.append(x)\n",
    "        print(self.l)\n",
    "    def pop(self):\n",
    "        self.l.pop()\n",
    "        print(self.l)\n",
    "    def isempty(self):\n",
    "        return self.l==[]\n",
    "a=Stack()\n",
    "for i in s:\n",
    "    flag=False\n",
    "    if(i==\"(\"):\n",
    "        a.push(i)\n",
    "    elif(i==\")\"):\n",
    "        if(a.isempty()):\n",
    "            flag=False\n",
    "            break\n",
    "        a.pop()\n",
    "else:\n",
    "        if(a.isempty()):\n",
    "            flag=True\n",
    "        else:\n",
    "            flag=False\n",
    "if(flag==True):\n",
    "    print(\"Balanced\")\n",
    "else:\n",
    "    print(\" Not Balanced\")\n"
   ]
  },
  {
   "cell_type": "markdown",
   "metadata": {},
   "source": [
    "*BASIC QUEUE*"
   ]
  },
  {
   "cell_type": "code",
   "execution_count": 5,
   "metadata": {},
   "outputs": [
    {
     "name": "stdout",
     "output_type": "stream",
     "text": [
      "[467]\n",
      "[467, 284]\n",
      "[467, 284, 3]\n",
      "[467, 284, 3, 93]\n",
      "[467, 284, 3, 93, 583]\n",
      "[467, 284, 3, 93, 583, 63]\n",
      "[284, 3, 93, 583, 63]\n",
      "5\n"
     ]
    }
   ],
   "source": [
    "class Queue:\n",
    "    def __init__(self):\n",
    "        self.l=[]\n",
    "    def enqueue(self,x):\n",
    "        self.l.append(x)\n",
    "        print(self.l)\n",
    "    def dequeue(self):\n",
    "        self.l.pop(0)\n",
    "        print(self.l)\n",
    "    def size(self):\n",
    "        return(len(self.l))\n",
    "q=Queue()\n",
    "q.enqueue(467)\n",
    "q.enqueue(284)\n",
    "q.enqueue(3)\n",
    "q.enqueue(93)\n",
    "q.enqueue(583)\n",
    "q.enqueue(63)\n",
    "q.dequeue()\n",
    "print(q.size())"
   ]
  },
  {
   "cell_type": "markdown",
   "metadata": {},
   "source": [
    "*DEQUEUE*"
   ]
  },
  {
   "cell_type": "code",
   "execution_count": 10,
   "metadata": {},
   "outputs": [
    {
     "name": "stdin",
     "output_type": "stream",
     "text": [
      "Enter size of queue: 4\n",
      "At which posistin do you want to insert the value: 1\n",
      "Enter element: 12\n"
     ]
    },
    {
     "name": "stdout",
     "output_type": "stream",
     "text": [
      "[12]\n"
     ]
    },
    {
     "name": "stdin",
     "output_type": "stream",
     "text": [
      "At which posistin do you want to insert the value: 0\n",
      "Enter element: 56\n"
     ]
    },
    {
     "name": "stdout",
     "output_type": "stream",
     "text": [
      "[12, 56]\n"
     ]
    },
    {
     "name": "stdin",
     "output_type": "stream",
     "text": [
      "At which posistin do you want to insert the value: 1\n",
      "Enter element: 85\n"
     ]
    },
    {
     "name": "stdout",
     "output_type": "stream",
     "text": [
      "[85, 12, 56]\n"
     ]
    },
    {
     "name": "stdin",
     "output_type": "stream",
     "text": [
      "At which posistin do you want to insert the value: 1\n",
      "Enter element: 89\n"
     ]
    },
    {
     "name": "stdout",
     "output_type": "stream",
     "text": [
      "[89, 85, 12, 56]\n"
     ]
    },
    {
     "name": "stdin",
     "output_type": "stream",
     "text": [
      "At which posistin do you want to delete the value: 0\n"
     ]
    },
    {
     "name": "stdout",
     "output_type": "stream",
     "text": [
      "[85, 12, 56]\n"
     ]
    }
   ],
   "source": [
    "class Queue:\n",
    "    def __init__(self):\n",
    "        self.l=[]\n",
    "    def enqueue(self,x):\n",
    "        self.l.append(x)\n",
    "        print(self.l)\n",
    "    def add(self,y):\n",
    "        self.l.insert(0,y)\n",
    "        print(self.l)\n",
    "    def dequeue(self):\n",
    "        self.l.pop(0)\n",
    "        print(self.l)\n",
    "    def de(self):\n",
    "        self.l.pop()\n",
    "        print(self.l)\n",
    "    def size(self):\n",
    "        retrun(len(self.l))\n",
    "\n",
    "q=Queue()\n",
    "s=int(input(\"Enter size of queue:\"))\n",
    "while(s):\n",
    "    n=int(input(\"At which posistin do you want to insert the value:\"))\n",
    "    e=int(input(\"Enter element:\"))\n",
    "    if(n==0):\n",
    "        q.enqueue(e)\n",
    "    else:\n",
    "        q.add(e)\n",
    "    s=s-1\n",
    "d=int(input(\"At which posistin do you want to delete the value:\"))\n",
    "if(d==0):\n",
    "    q.dequeue()\n",
    "else:\n",
    "    q.de()\n"
   ]
  },
  {
   "cell_type": "code",
   "execution_count": null,
   "metadata": {},
   "outputs": [],
   "source": []
  }
 ],
 "metadata": {
  "kernelspec": {
   "display_name": "Python 3",
   "language": "python",
   "name": "python3"
  },
  "language_info": {
   "codemirror_mode": {
    "name": "ipython",
    "version": 3
   },
   "file_extension": ".py",
   "mimetype": "text/x-python",
   "name": "python",
   "nbconvert_exporter": "python",
   "pygments_lexer": "ipython3",
   "version": "3.7.3"
  }
 },
 "nbformat": 4,
 "nbformat_minor": 4
}
