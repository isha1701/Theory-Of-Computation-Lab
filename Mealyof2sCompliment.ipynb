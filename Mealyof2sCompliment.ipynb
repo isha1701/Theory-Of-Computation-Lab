{
 "cells": [
  {
   "cell_type": "code",
   "execution_count": null,
   "metadata": {},
   "outputs": [],
   "source": [
    "#machine for 2's compliment of a binary number\n",
    "\n",
    "mealy = {'q0':{'0':{'st':'q0','op':'0'},'1':{'st':'q1','op':'1'}},\n",
    "       'q1':{'0':{'st':'q1','op':'1'},'1':{'st':'q1','op':'0'}}\n",
    "      }\n",
    "\n",
    "\n",
    "iis = 'q0'\n",
    "\n",
    "str = input('Enter String')\n",
    "cs = 'q0'\n",
    "ans = ''\n",
    "#looping\n",
    "for i in str[::-1]:\n",
    "    op = mealy[cs][i]['op']\n",
    "    cs = mealy[cs][i]['st']\n",
    "    ans=ans+op\n",
    "print(ans[::-1])\n"
   ]
  },
  {
   "cell_type": "code",
   "execution_count": null,
   "metadata": {},
   "outputs": [],
   "source": []
  }
 ],
 "metadata": {
  "kernelspec": {
   "display_name": "Python 3",
   "language": "python",
   "name": "python3"
  },
  "language_info": {
   "codemirror_mode": {
    "name": "ipython",
    "version": 3
   },
   "file_extension": ".py",
   "mimetype": "text/x-python",
   "name": "python",
   "nbconvert_exporter": "python",
   "pygments_lexer": "ipython3",
   "version": "3.7.3"
  }
 },
 "nbformat": 4,
 "nbformat_minor": 4
}
