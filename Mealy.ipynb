{
 "cells": [
  {
   "cell_type": "code",
   "execution_count": 16,
   "metadata": {},
   "outputs": [
    {
     "name": "stdout",
     "output_type": "stream",
     "text": [
      "odd\n"
     ]
    }
   ],
   "source": [
    "#by dictionary and tuple\n",
    "mealy = {'q0':{'0':('q0','even'),'1':('q1','odd')},\n",
    "       'q1':{'0':('q1','odd'),'1':('q0','even')}\n",
    "      }\n",
    "    \n",
    "print(mealy['q0']['1'][0])\n"
   ]
  },
  {
   "cell_type": "code",
   "execution_count": 17,
   "metadata": {},
   "outputs": [
    {
     "name": "stdout",
     "output_type": "stream",
     "text": [
      "q1\n"
     ]
    }
   ],
   "source": [
    "#by dictionary and list\n",
    "mealy = {'q0':{'0':['q0','even'],'1':['q1','odd']},\n",
    "       'q1':{'0':['q1','odd'],'1':['q0','even']}\n",
    "      }\n",
    "    \n",
    "print(mealy['q0']['1'][0])\n"
   ]
  },
  {
   "cell_type": "code",
   "execution_count": 20,
   "metadata": {},
   "outputs": [
    {
     "name": "stdout",
     "output_type": "stream",
     "text": [
      "q1\n",
      "odd\n"
     ]
    }
   ],
   "source": [
    "#only by dictionary \n",
    "mealy = {'q0':{'0':{'st':'q0','o/p':'even'},'1':{'st':'q1','o/p':'odd'}},\n",
    "       'q1':{'0':{'st':'q1','o/p':'odd'},'1':{'st':'q0','o/p':'even'}}\n",
    "      }\n",
    "    \n",
    "print(mealy['q0']['1']['st'])\n",
    "print(mealy['q0']['1']['o/p'])"
   ]
  },
  {
   "cell_type": "code",
   "execution_count": 31,
   "metadata": {},
   "outputs": [
    {
     "name": "stdin",
     "output_type": "stream",
     "text": [
      "Enter String 1100\n"
     ]
    },
    {
     "name": "stdout",
     "output_type": "stream",
     "text": [
      "q0\n"
     ]
    }
   ],
   "source": [
    "\n",
    "mealy = {'q0':{'0':{'st':'q0','op':'even'},'1':{'st':'q1','op':'odd'}},\n",
    "       'q1':{'0':{'st':'q1','op':'odd'},'1':{'st':'q0','op':'even'}}\n",
    "      }\n",
    "\n",
    "\n",
    "iis = 'q0'\n",
    "\n",
    "str = input('Enter String')\n",
    "cs = 'q0'\n",
    "\n",
    "#looping\n",
    "for i in str:\n",
    "    op = mealy[cs][i]['op']\n",
    "    cs = mealy[cs][i]['st']\n",
    "print(cs)"
   ]
  },
  {
   "cell_type": "code",
   "execution_count": null,
   "metadata": {},
   "outputs": [],
   "source": []
  },
  {
   "cell_type": "code",
   "execution_count": null,
   "metadata": {},
   "outputs": [],
   "source": []
  },
  {
   "cell_type": "code",
   "execution_count": null,
   "metadata": {},
   "outputs": [],
   "source": []
  },
  {
   "cell_type": "code",
   "execution_count": null,
   "metadata": {},
   "outputs": [],
   "source": []
  }
 ],
 "metadata": {
  "kernelspec": {
   "display_name": "Python 3",
   "language": "python",
   "name": "python3"
  },
  "language_info": {
   "codemirror_mode": {
    "name": "ipython",
    "version": 3
   },
   "file_extension": ".py",
   "mimetype": "text/x-python",
   "name": "python",
   "nbconvert_exporter": "python",
   "pygments_lexer": "ipython3",
   "version": "3.7.3"
  }
 },
 "nbformat": 4,
 "nbformat_minor": 4
}
