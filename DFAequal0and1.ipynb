{
 "cells": [
  {
   "cell_type": "code",
   "execution_count": null,
   "metadata": {},
   "outputs": [],
   "source": [
    "#DFAImplementation of machine with equal numbers of 1s and 0s\n",
    "\n",
    "#defining states with tuples\n",
    "dfa = dict()\n",
    "dfa[('q1','0')]='q2'\n",
    "dfa[('q1','1')]='q3'\n",
    "dfa[('q2','0')]='q3'\n",
    "dfa[('q2','1')]='q0'\n",
    "dfa[('q2','0')]='q0'\n",
    "dfa[('q2','1')]='q2'\n",
    "\n",
    "\n",
    "#initialising states\n",
    "iis = 'q0'\n",
    "fs = {'q0'}\n",
    "str = input('Enter String')\n",
    "cs = iis\n",
    "\n",
    "#looping\n",
    "for i in str:\n",
    "    cs = dfa[(cs,i)]\n",
    "if cs in fs:\n",
    "    print('Valid String')\n",
    "else :\n",
    "    print('Invalid String')"
   ]
  }
 ],
 "metadata": {
  "kernelspec": {
   "display_name": "Python 3",
   "language": "python",
   "name": "python3"
  },
  "language_info": {
   "codemirror_mode": {
    "name": "ipython",
    "version": 3
   },
   "file_extension": ".py",
   "mimetype": "text/x-python",
   "name": "python",
   "nbconvert_exporter": "python",
   "pygments_lexer": "ipython3",
   "version": "3.7.3"
  }
 },
 "nbformat": 4,
 "nbformat_minor": 4
}
